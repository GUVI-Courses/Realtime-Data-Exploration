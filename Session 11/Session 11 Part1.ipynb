{
 "cells": [
  {
   "cell_type": "markdown",
   "id": "8176aae4",
   "metadata": {},
   "source": [
    "**Session 9 : PART 2**"
   ]
  },
  {
   "cell_type": "code",
   "execution_count": null,
   "id": "b5a6458f",
   "metadata": {},
   "outputs": [],
   "source": [
    "#bar chart\n",
    "\n",
    "import pandas as pd\n",
    "import matplotlib.pyplot as plt\n",
    "import seaborn as sns\n",
    "\n",
    "data ={'Region':['North','South','East','West'], 'Sales':[150,120,300,200]}\n",
    "\n",
    "df= pd.DataFrame(data)\n",
    "df\n",
    "\n",
    "plt.title('Sales by Region')\n",
    "plt.bar(df['Region'], df['Sales'],width=0.3, color=('teal', 'lavender','lightblue','orange'))\n",
    "plt.xlabel('Region')\n",
    "plt.xticks(rotation=60)\n",
    "plt.ylabel('Sales')\n",
    "plt.show()"
   ]
  },
  {
   "cell_type": "markdown",
   "id": "1883e9d2",
   "metadata": {},
   "source": [
    "**conclusion : From the above bar chart i can conclude that the East region has the highest number of sales by 300 and South region with the least number of sales**"
   ]
  },
  {
   "cell_type": "code",
   "execution_count": null,
   "id": "d8061791",
   "metadata": {},
   "outputs": [],
   "source": []
  },
  {
   "cell_type": "markdown",
   "id": "ecaea928",
   "metadata": {},
   "source": [
    "**Session 10**"
   ]
  },
  {
   "cell_type": "code",
   "execution_count": null,
   "id": "b8ed0489",
   "metadata": {},
   "outputs": [],
   "source": [
    "#line chart \n",
    "\n",
    "time = [1,2,3,4,5] #weeks\n",
    "traffic = [1000, 1200, 1600, 500, 2500]\n",
    "\n",
    "data1 = {'Weeks' : time, 'Visitors' : traffic}\n",
    "df2 = pd.DataFrame(data1)\n",
    "df2"
   ]
  },
  {
   "cell_type": "code",
   "execution_count": null,
   "id": "2b396549",
   "metadata": {
    "scrolled": false
   },
   "outputs": [],
   "source": [
    "plt.plot(df2['Weeks'], df2['Visitors'], marker= 'o', label='Visitors per week')\n",
    "plt.xlabel('Weeks')\n",
    "plt.ylabel('Visitors')\n",
    "plt.legend()\n",
    "plt.show()"
   ]
  },
  {
   "cell_type": "code",
   "execution_count": null,
   "id": "d9b70731",
   "metadata": {},
   "outputs": [],
   "source": [
    "#scatter plot\n",
    "\n",
    "import numpy as np\n",
    "\n",
    "height = np.random.normal(170, 10, 100) #random heights\n",
    "weight = np.random.normal(65,12,100) #random weights\n",
    "\n",
    "plt.scatter(height, weight)\n",
    "plt.title('Height vs Weight')\n",
    "plt.xlabel('Height')\n",
    "plt.ylabel('Weight')\n",
    "plt.show()"
   ]
  },
  {
   "cell_type": "code",
   "execution_count": null,
   "id": "973b03e6",
   "metadata": {},
   "outputs": [],
   "source": [
    "#histogram\n",
    "\n",
    "ages = [23,25,27,30,33,36,40,45,50,55,60,65,70,75,80]\n",
    "\n",
    "plt.hist(ages, bins = 5, edgecolor = 'red')\n",
    "plt.title('Age distribution')\n",
    "plt.xlabel('Age')\n",
    "plt.ylabel('Frequency')\n",
    "plt.show()"
   ]
  },
  {
   "cell_type": "markdown",
   "id": "af003e85",
   "metadata": {},
   "source": [
    "**Session 11: PART**"
   ]
  },
  {
   "cell_type": "code",
   "execution_count": 4,
   "id": "70c498b3",
   "metadata": {},
   "outputs": [
    {
     "data": {
      "image/png": "[encoded data removed]",
      "text/plain": [
       "<Figure size 640x480 with 1 Axes>"
      ]
     },
     "metadata": {},
     "output_type": "display_data"
    }
   ],
   "source": [
    "#box plot\n",
    "\n",
    "salaries = [50000,52000,60000,58000,62000,75000,80000,85000,95000,100000]\n",
    "plt.boxplot(salaries)\n",
    "plt.title('Salary Distribution')\n",
    "plt.ylabel('Salary ($)')\n",
    "plt.show()"
   ]
  },
  {
   "cell_type": "code",
   "execution_count": null,
   "id": "8652870d",
   "metadata": {},
   "outputs": [],
   "source": []
  }
 ],
 "metadata": {
  "kernelspec": {
   "display_name": "Python 3 (ipykernel)",
   "language": "python",
   "name": "python3"
  },
  "language_info": {
   "codemirror_mode": {
    "name": "ipython",
    "version": 3
   },
   "file_extension": ".py",
   "mimetype": "text/x-python",
   "name": "python",
   "nbconvert_exporter": "python",
   "pygments_lexer": "ipython3",
   "version": "3.10.9"
  }
 },
 "nbformat": 4,
 "nbformat_minor": 5
}
